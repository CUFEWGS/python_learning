{
 "cells": [
  {
   "cell_type": "markdown",
   "metadata": {},
   "source": [
    "# Python 学习小组交流材料"
   ]
  },
  {
   "cell_type": "markdown",
   "metadata": {},
   "source": [
    "##  <font color=#1E90FF>结合工作内容谈谈我对编程的理解</font>\n",
    "- 执行任务的具体步骤通过编程语言翻译给计算机，让计算机帮我们完成相关的任务\n",
    "- 每一个词语对应计算机中的一个或一段代码，任务执行步骤对应相应的代码块 <font color=#1E90FF>*求平均数 = mean()*</font>\n",
    "- 每个常用步骤的固定化 <font color=red>VS</font> 代码的模块化 <font color=#1E90FF>*计算收益率*</font> \n",
    "\n",
    "<br>**程序化是把一个具体任务拆分为具体的步骤，然后交给计算机去重复执行的一个过程**<br/>\n",
    "<br>**编程是把每一个具体步骤翻译成计算机语言执行的一个方法**<br/>\n",
    "<br><br/>\n",
    "**编程擅长的领域：**\n",
    "- 复杂的科学运算\n",
    "- 需要重复执行的步骤明确的任务（能够模块化的任务）\n",
    "- 批量化执行大量重复性工作\n",
    "\n",
    "**产品绩效评估的例子：**\n",
    "- 读取数据，转换成标准格式的数据（日期 + 净值）  <font color=#1E90FF>*pd.read_excel*</font>\n",
    "- 收益率、波动率等指标计算  <font color=#1E90FF>*metrics_return/metrics_stdev...*</font>\n",
    "- 净值曲线   <font color=#1E90FF>*plot()*</font>\n",
    "- 结果的导出   <font color=#1E90FF>*df.to_excel()*</font>\n",
    "\n",
    "**提供的支持：**\n",
    "- 数据提取\n",
    "- 数据分析\n",
    "- 系统对接\n",
    "\n",
    "**小小的希望：**\n",
    "- 需求程序化的价值（计算复杂，简单的手动无法完成，模块化的东西后面会经常使用）\n",
    "- 沟通过程中最好能将自己的需求流程化、模块化的对接\n",
    "- 目前python这边的工具基础还不够完善，随着需求的对接，后续的速度应该会跟上\n",
    "<br>(季度报告中的数据处理）\n"
   ]
  },
  {
   "cell_type": "markdown",
   "metadata": {},
   "source": [
    "##  <font color=#1E90FF>对于学习小组的想法</font>\n",
    "**学习编程的建议**\n",
    "- 时间和精力的付出\n",
    "- 编程技术孰能生巧 <font color=red>coding！coding！coding！</font>\n",
    "- 多看官方文档\n",
    "- 日常生活中的工作多做程序化和模块化的思考，并去体验编程的魅力\n",
    "\n",
    "**学习安排**\n",
    "- Python 环境搭建 <font color=#1E90FF>*Juypter Notebook的使用*</font>\n",
    "- 数据结构、条件和循环 <font color=#1E90FF>*pacakge的安装和调用 + 数据导入*</font>\n",
    "- 函数 <font color=#1E90FF>*产品绩效分析，收益率的计算*</font>\n",
    "- 高级特性\n",
    "- Numpy (孙建鹏）\n",
    "- Pandas \n",
    "- Scipy (孙艺斌）\n",
    "- Juypter Notebook 与 聚宽量化研究平台（孙建鹏）\n",
    "- 打分系统的Juypter Notebook实现（孙艺斌）\n",
    "- Pycharm 使用：数据库 Git Live Template\n",
    "- 类、方法、装饰器\n",
    "\n",
    "**学习要求**\n",
    "- 每期把相关学习资料阅读完，把里面的代码coding到jupyter notebook中，每次存成一个文件，下次课程前的周日把代码发到学习群里面\n",
    "- 讨论课上的实例要回去运行至少一遍\n",
    "- 每天至少花30分钟在写代码上（上下班路上手机客户端进行）\n"
   ]
  }
 ],
 "metadata": {
  "kernelspec": {
   "display_name": "Python 3",
   "language": "python",
   "name": "python3"
  },
  "language_info": {
   "codemirror_mode": {
    "name": "ipython",
    "version": 3
   },
   "file_extension": ".py",
   "mimetype": "text/x-python",
   "name": "python",
   "nbconvert_exporter": "python",
   "pygments_lexer": "ipython3",
   "version": "3.7.2"
  }
 },
 "nbformat": 4,
 "nbformat_minor": 2
}
