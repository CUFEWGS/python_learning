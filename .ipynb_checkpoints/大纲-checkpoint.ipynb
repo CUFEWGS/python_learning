{
 "cells": [
  {
   "cell_type": "markdown",
   "metadata": {},
   "source": [
    "# （一）anaconda安装"
   ]
  },
  {
   "cell_type": "markdown",
   "metadata": {},
   "source": [
    "    anaconda官网下载地址：https://www.anaconda.com/distribution/#download-section\n",
    "\n",
    "    选择Python 3.7 version（注意电脑是windows还是mac系统）\n",
    "\n",
    "    download之后的安装教程参考 https://jingyan.baidu.com/article/eae078275a31851fec5485b8.html\n"
   ]
  },
  {
   "cell_type": "markdown",
   "metadata": {},
   "source": [
    "# （二）Python基础"
   ]
  },
  {
   "cell_type": "markdown",
   "metadata": {},
   "source": [
    "###   （1）Python基本数据类型\n",
    "      number\n",
    "      string\n",
    "      list\n",
    "      tuple\n",
    "      dict\n",
    "      set"
   ]
  },
  {
   "cell_type": "markdown",
   "metadata": {},
   "source": [
    "###   （2）条件判断"
   ]
  },
  {
   "cell_type": "markdown",
   "metadata": {},
   "source": [
    "###   （3） 循环\n",
    "    for\n",
    "    while\n",
    "    continue, break"
   ]
  },
  {
   "cell_type": "markdown",
   "metadata": {},
   "source": [
    "# （三）函数"
   ]
  },
  {
   "cell_type": "markdown",
   "metadata": {},
   "source": [
    "    调用函数\n",
    "    定义函数\n",
    "    函数参数"
   ]
  },
  {
   "cell_type": "markdown",
   "metadata": {},
   "source": [
    "# （四）模块，类\n",
    "    使用模块\n",
    "    使用类"
   ]
  },
  {
   "cell_type": "markdown",
   "metadata": {},
   "source": [
    "# （五）处理excel\n",
    "    read_excel\n",
    "    to_excel"
   ]
  },
  {
   "cell_type": "markdown",
   "metadata": {},
   "source": [
    "# （六） 数据处理库"
   ]
  },
  {
   "cell_type": "markdown",
   "metadata": {},
   "source": [
    "### (1)pandas"
   ]
  },
  {
   "cell_type": "markdown",
   "metadata": {},
   "source": [
    "### (2)numpy"
   ]
  },
  {
   "cell_type": "markdown",
   "metadata": {},
   "source": [
    "### (3)empyrical"
   ]
  }
 ],
 "metadata": {
  "kernelspec": {
   "display_name": "Python 3",
   "language": "python",
   "name": "python3"
  },
  "language_info": {
   "codemirror_mode": {
    "name": "ipython",
    "version": 3
   },
   "file_extension": ".py",
   "mimetype": "text/x-python",
   "name": "python",
   "nbconvert_exporter": "python",
   "pygments_lexer": "ipython3",
   "version": "3.7.2"
  }
 },
 "nbformat": 4,
 "nbformat_minor": 2
}
