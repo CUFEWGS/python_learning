{
 "cells": [
  {
   "cell_type": "markdown",
   "metadata": {},
   "source": [
    "### 前两次讨论练习\n",
    "1. 请以某私募或公募净值数据为例，完成年化收益率、年化波动率、夏普比率、期间收益率的计算\n",
    "2. 阅读empyrical中各个函数的帮助文档\n",
    "3. 搞清楚empyrical.cum_returns以及empyrical.cum_returns_final的区别"
   ]
  },
  {
   "cell_type": "markdown",
   "metadata": {},
   "source": [
    "### Python 函数"
   ]
  },
  {
   "cell_type": "markdown",
   "metadata": {},
   "source": [
    "- [调用函数](https://www.liaoxuefeng.com/wiki/1016959663602400/1017105451316128)\n",
    "- [定义函数](https://www.liaoxuefeng.com/wiki/1016959663602400/1017106984190464)\n",
    "- [函数的参数](https://www.liaoxuefeng.com/wiki/1016959663602400/1017261630425888)\n",
    "- [递归函数](https://www.liaoxuefeng.com/wiki/1016959663602400/1017268131039072)\n"
   ]
  }
 ],
 "metadata": {
  "kernelspec": {
   "display_name": "Python 3",
   "language": "python",
   "name": "python3"
  },
  "language_info": {
   "codemirror_mode": {
    "name": "ipython",
    "version": 3
   },
   "file_extension": ".py",
   "mimetype": "text/x-python",
   "name": "python",
   "nbconvert_exporter": "python",
   "pygments_lexer": "ipython3",
   "version": "3.7.2"
  }
 },
 "nbformat": 4,
 "nbformat_minor": 2
}
