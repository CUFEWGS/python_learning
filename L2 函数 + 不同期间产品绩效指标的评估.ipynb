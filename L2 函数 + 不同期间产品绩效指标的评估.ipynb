{
 "cells": [
  {
   "cell_type": "markdown",
   "metadata": {},
   "source": [
    "### 前两次讨论练习\n",
    "1. 请以某私募或公募净值数据为例，完成年化收益率、年化波动率、夏普比率、期间收益率的计算\n",
    "2. 阅读empyrical中各个函数的帮助文档\n",
    "3. 搞清楚empyrical.cum_returns以及empyrical.cum_returns_final的区别"
   ]
  },
  {
   "cell_type": "markdown",
   "metadata": {},
   "source": [
    "### Python 函数"
   ]
  },
  {
   "cell_type": "markdown",
   "metadata": {},
   "source": [
    "- [调用函数](https://www.liaoxuefeng.com/wiki/1016959663602400/1017105451316128)\n",
    "- [定义函数](https://www.liaoxuefeng.com/wiki/1016959663602400/1017106984190464)\n",
    "- [函数的参数](https://www.liaoxuefeng.com/wiki/1016959663602400/1017261630425888)\n",
    "- [递归函数](https://www.liaoxuefeng.com/wiki/1016959663602400/1017268131039072)\n"
   ]
  },
  {
   "cell_type": "markdown",
   "metadata": {},
   "source": [
    "### 调用函数"
   ]
  },
  {
   "cell_type": "markdown",
   "metadata": {},
   "source": [
    "### 定义函数"
   ]
  },
  {
   "cell_type": "markdown",
   "metadata": {},
   "source": [
    "1. **params**\n",
    "<br>**return** "
   ]
  },
  {
   "cell_type": "code",
   "execution_count": 1,
   "metadata": {},
   "outputs": [],
   "source": [
    "def my_abs(x):\n",
    "    if x >= 0:\n",
    "        return x\n",
    "    else:\n",
    "        return -x"
   ]
  },
  {
   "cell_type": "code",
   "execution_count": 18,
   "metadata": {},
   "outputs": [],
   "source": [
    "def print_a_word(mystr):\n",
    "    print(mystr)"
   ]
  },
  {
   "cell_type": "code",
   "execution_count": 19,
   "metadata": {},
   "outputs": [
    {
     "name": "stdout",
     "output_type": "stream",
     "text": [
      "mysord\n"
     ]
    }
   ],
   "source": [
    "a = print_a_word(\"mysord\")"
   ]
  },
  {
   "cell_type": "code",
   "execution_count": 20,
   "metadata": {},
   "outputs": [],
   "source": [
    "a"
   ]
  },
  {
   "cell_type": "code",
   "execution_count": 3,
   "metadata": {},
   "outputs": [],
   "source": [
    "def my_caculate():\n",
    "    pass"
   ]
  },
  {
   "cell_type": "code",
   "execution_count": null,
   "metadata": {},
   "outputs": [],
   "source": []
  },
  {
   "cell_type": "code",
   "execution_count": 2,
   "metadata": {},
   "outputs": [
    {
     "name": "stdout",
     "output_type": "stream",
     "text": [
      "Hello, World\n"
     ]
    }
   ],
   "source": [
    "print_hello_world()"
   ]
  },
  {
   "cell_type": "markdown",
   "metadata": {},
   "source": [
    "2. **pass**"
   ]
  },
  {
   "cell_type": "markdown",
   "metadata": {},
   "source": [
    "3. **param test**\n",
    "<br>raise Error(message)"
   ]
  },
  {
   "cell_type": "code",
   "execution_count": 5,
   "metadata": {},
   "outputs": [],
   "source": [
    "def my_abs(x):\n",
    "    if not isinstance(x, (int, float)):\n",
    "        raise TypeError('x is not int or float')\n",
    "    if x >= 0:\n",
    "        return x\n",
    "    else:\n",
    "        return -x"
   ]
  },
  {
   "cell_type": "code",
   "execution_count": 8,
   "metadata": {},
   "outputs": [
    {
     "data": {
      "text/plain": [
       "1"
      ]
     },
     "execution_count": 8,
     "metadata": {},
     "output_type": "execute_result"
    }
   ],
   "source": [
    "my_abs(-1)"
   ]
  },
  {
   "cell_type": "markdown",
   "metadata": {},
   "source": [
    "4. **return mutiple value**"
   ]
  },
  {
   "cell_type": "code",
   "execution_count": 4,
   "metadata": {},
   "outputs": [],
   "source": [
    "import math\n",
    "\n",
    "def move(x, y, step, angle=0):\n",
    "    nx = x + step * math.cos(angle)\n",
    "    ny = y - step * math.sin(angle)\n",
    "    return nx, ny"
   ]
  },
  {
   "cell_type": "markdown",
   "metadata": {},
   "source": [
    "5. **attention: name**\n",
    "<br>good name: \n",
    "    - simple(not too long)\n",
    "    - verb(represent an action:db_connect)\n",
    "    - consistency(metrics_ret, metrics_vol...)\n"
   ]
  },
  {
   "cell_type": "markdown",
   "metadata": {},
   "source": [
    "### 函数的参数"
   ]
  },
  {
   "cell_type": "markdown",
   "metadata": {},
   "source": [
    "1. 默认参数\n",
    "    - 一是必选参数在前，默认参数在后，否则Python的解释器会报错（思考一下为什么默认参数不能放在必选参数前面）；\n",
    "\n",
    "    - 二是如何设置默认参数:当函数有多个参数时，把变化大的参数放前面，变化小的参数放后面。变化小的参数就可以作为默认参数。"
   ]
  },
  {
   "cell_type": "markdown",
   "metadata": {},
   "source": [
    "2. 可变参数\n",
    "    - \\*args, *kwargs"
   ]
  },
  {
   "cell_type": "code",
   "execution_count": 11,
   "metadata": {},
   "outputs": [],
   "source": [
    "def f1(a, b, c=0, *args, **kwargs):\n",
    "    print('a =', a, 'b =', b, 'c =', c, 'args =', args, 'kw =', kw)\n"
   ]
  },
  {
   "cell_type": "code",
   "execution_count": 13,
   "metadata": {},
   "outputs": [
    {
     "name": "stdout",
     "output_type": "stream",
     "text": [
      "a = 1 b = 2 c = 4 args = (5,) kw = {'d': 99, 'ext': None}\n"
     ]
    }
   ],
   "source": [
    " f1(1, 2,4, 5, d=99, ext=None)"
   ]
  },
  {
   "cell_type": "markdown",
   "metadata": {},
   "source": [
    "### 递归函数"
   ]
  },
  {
   "cell_type": "markdown",
   "metadata": {},
   "source": [
    "使用递归函数需要注意防止栈溢出。在计算机中，函数调用是通过栈（stack）这种数据结构实现的，每当进入一个函数调用，栈就会加一层栈帧，每当函数返回，栈就会减一层栈帧。由于栈的大小不是无限的，所以，递归调用的次数过多，会导致栈溢出。"
   ]
  },
  {
   "cell_type": "markdown",
   "metadata": {},
   "source": [
    "def fact(n):\n",
    "    if n==1:\n",
    "        return 1\n",
    "    return n * fact(n - 1)"
   ]
  },
  {
   "cell_type": "raw",
   "metadata": {},
   "source": [
    "===> fact(5)\n",
    "===> 5 * fact(4)\n",
    "===> 5 * (4 * fact(3))\n",
    "===> 5 * (4 * (3 * fact(2)))\n",
    "===> 5 * (4 * (3 * (2 * fact(1))))\n",
    "===> 5 * (4 * (3 * (2 * 1)))\n",
    "===> 5 * (4 * (3 * 2))\n",
    "===> 5 * (4 * 6)\n",
    "===> 5 * 24\n",
    "===> 120"
   ]
  },
  {
   "cell_type": "markdown",
   "metadata": {},
   "source": [
    "解决递归调用栈溢出的方法是通过尾递归优化，事实上尾递归和循环的效果是一样的，所以，把循环看成是一种特殊的尾递归函数也是可以的。\n",
    "\n",
    "尾递归是指，在函数返回的时候，调用自身本身，并且，return语句不能包含表达式。这样，编译器或者解释器就可以把尾递归做优化，使递归本身无论调用多少次，都只占用一个栈帧，不会出现栈溢出的情况。"
   ]
  },
  {
   "cell_type": "code",
   "execution_count": 15,
   "metadata": {},
   "outputs": [],
   "source": [
    "def fact(n):\n",
    "    return fact_iter(n, 1)\n",
    "\n",
    "def fact_iter(num, product):\n",
    "    if num == 1:\n",
    "        return product\n",
    "    return fact_iter(num - 1, num * product)"
   ]
  },
  {
   "cell_type": "code",
   "execution_count": 16,
   "metadata": {},
   "outputs": [
    {
     "data": {
      "text/plain": [
       "120"
      ]
     },
     "execution_count": 16,
     "metadata": {},
     "output_type": "execute_result"
    }
   ],
   "source": [
    "fact(5)"
   ]
  },
  {
   "cell_type": "raw",
   "metadata": {},
   "source": [
    "===> fact_iter(5, 1)\n",
    "===> fact_iter(4, 5)\n",
    "===> fact_iter(3, 20)\n",
    "===> fact_iter(2, 60)\n",
    "===> fact_iter(1, 120)\n",
    "===> 120"
   ]
  },
  {
   "cell_type": "markdown",
   "metadata": {},
   "source": [
    "## 不同期间产品绩效评估"
   ]
  },
  {
   "cell_type": "code",
   "execution_count": 1,
   "metadata": {},
   "outputs": [],
   "source": [
    "import dateutil"
   ]
  },
  {
   "cell_type": "code",
   "execution_count": 2,
   "metadata": {
    "scrolled": true
   },
   "outputs": [],
   "source": [
    "import pandas as pd\n",
    "data = pd.read_excel('XX1号产品净值-20190404.xlsx', skiprows=1)\n",
    "nav = pd.Series(data.iloc[:, 1])\n",
    "nav.set_axis(data.iloc[:, 0], inplace = True)"
   ]
  },
  {
   "cell_type": "code",
   "execution_count": 3,
   "metadata": {},
   "outputs": [],
   "source": [
    "import empyrical\n",
    "ret = empyrical.simple_returns(nav)"
   ]
  },
  {
   "cell_type": "code",
   "execution_count": 4,
   "metadata": {},
   "outputs": [
    {
     "data": {
      "text/plain": [
       "日期\n",
       "2016-02-05   -0.009849\n",
       "2016-02-15   -0.006667\n",
       "2016-02-16    0.040327\n",
       "2016-02-17    0.011223\n",
       "2016-02-18    0.002699\n",
       "2016-02-19   -0.003493\n",
       "2016-02-22    0.017280\n",
       "2016-02-23   -0.004123\n",
       "2016-02-24    0.006296\n",
       "2016-02-25    0.088244\n",
       "2016-02-26    0.010295\n",
       "2016-02-29   -0.013865\n",
       "2016-03-01    0.029689\n",
       "2016-03-02    0.068944\n",
       "2016-03-03    0.002863\n",
       "2016-03-04    0.026789\n",
       "2016-03-07    0.025929\n",
       "2016-03-08   -0.002295\n",
       "2016-03-09   -0.011139\n",
       "2016-03-10   -0.019209\n",
       "2016-03-11    0.003188\n",
       "2016-03-14   -0.040276\n",
       "2016-03-15    0.005891\n",
       "2016-03-16    0.012114\n",
       "2016-03-17    0.011684\n",
       "2016-03-18    0.007793\n",
       "2016-03-21    0.026887\n",
       "2016-03-22   -0.001683\n",
       "2016-03-23    0.004661\n",
       "2016-03-24   -0.017784\n",
       "                ...   \n",
       "2019-02-22    0.009173\n",
       "2019-02-25    0.015910\n",
       "2019-02-26   -0.001495\n",
       "2019-02-27   -0.003742\n",
       "2019-02-28    0.002405\n",
       "2019-03-01   -0.007565\n",
       "2019-03-04    0.003160\n",
       "2019-03-05    0.027020\n",
       "2019-03-06    0.015180\n",
       "2019-03-07    0.006360\n",
       "2019-03-08   -0.025550\n",
       "2019-03-11    0.015240\n",
       "2019-03-12    0.019480\n",
       "2019-03-13   -0.017825\n",
       "2019-03-14   -0.011400\n",
       "2019-03-15    0.005360\n",
       "2019-03-18    0.013740\n",
       "2019-03-19   -0.003960\n",
       "2019-03-20    0.002175\n",
       "2019-03-21    0.008925\n",
       "2019-03-22    0.006980\n",
       "2019-03-25    0.007885\n",
       "2019-03-26   -0.003565\n",
       "2019-03-27    0.004147\n",
       "2019-03-28   -0.007330\n",
       "2019-03-29   -0.012397\n",
       "2019-04-01    0.050055\n",
       "2019-04-02   -0.003902\n",
       "2019-04-03    0.006795\n",
       "2019-04-04   -0.002700\n",
       "Name: CTA净值, Length: 769, dtype: float64"
      ]
     },
     "execution_count": 4,
     "metadata": {},
     "output_type": "execute_result"
    }
   ],
   "source": [
    "ret"
   ]
  },
  {
   "cell_type": "code",
   "execution_count": 20,
   "metadata": {},
   "outputs": [],
   "source": [
    "from dateutil.relativedelta import relativedelta"
   ]
  },
  {
   "cell_type": "code",
   "execution_count": 6,
   "metadata": {},
   "outputs": [
    {
     "data": {
      "text/plain": [
       "Timestamp('2019-04-04 00:00:00')"
      ]
     },
     "execution_count": 6,
     "metadata": {},
     "output_type": "execute_result"
    }
   ],
   "source": [
    "date = max(ret.index)\n",
    "date"
   ]
  },
  {
   "cell_type": "code",
   "execution_count": 23,
   "metadata": {},
   "outputs": [],
   "source": [
    "def add_date(date, months=-0, years = -1):\n",
    "    dt = date + relativedelta(months = months, years = years)\n",
    "    return dt"
   ]
  },
  {
   "cell_type": "code",
   "execution_count": 13,
   "metadata": {},
   "outputs": [
    {
     "name": "stdout",
     "output_type": "stream",
     "text": [
      "Help on class relativedelta in module dateutil.relativedelta:\n",
      "\n",
      "class relativedelta(builtins.object)\n",
      " |  relativedelta(dt1=None, dt2=None, years=0, months=0, days=0, leapdays=0, weeks=0, hours=0, minutes=0, seconds=0, microseconds=0, year=None, month=None, day=None, weekday=None, yearday=None, nlyearday=None, hour=None, minute=None, second=None, microsecond=None)\n",
      " |  \n",
      " |  The relativedelta type is based on the specification of the excellent\n",
      " |  work done by M.-A. Lemburg in his\n",
      " |  `mx.DateTime <http://www.egenix.com/files/python/mxDateTime.html>`_ extension.\n",
      " |  However, notice that this type does *NOT* implement the same algorithm as\n",
      " |  his work. Do *NOT* expect it to behave like mx.DateTime's counterpart.\n",
      " |  \n",
      " |  There are two different ways to build a relativedelta instance. The\n",
      " |  first one is passing it two date/datetime classes::\n",
      " |  \n",
      " |      relativedelta(datetime1, datetime2)\n",
      " |  \n",
      " |  The second one is passing it any number of the following keyword arguments::\n",
      " |  \n",
      " |      relativedelta(arg1=x,arg2=y,arg3=z...)\n",
      " |  \n",
      " |      year, month, day, hour, minute, second, microsecond:\n",
      " |          Absolute information (argument is singular); adding or subtracting a\n",
      " |          relativedelta with absolute information does not perform an aritmetic\n",
      " |          operation, but rather REPLACES the corresponding value in the\n",
      " |          original datetime with the value(s) in relativedelta.\n",
      " |  \n",
      " |      years, months, weeks, days, hours, minutes, seconds, microseconds:\n",
      " |          Relative information, may be negative (argument is plural); adding\n",
      " |          or subtracting a relativedelta with relative information performs\n",
      " |          the corresponding aritmetic operation on the original datetime value\n",
      " |          with the information in the relativedelta.  \n",
      " |  \n",
      " |      weekday:\n",
      " |          One of the weekday instances (MO, TU, etc). These instances may\n",
      " |          receive a parameter N, specifying the Nth weekday, which could\n",
      " |          be positive or negative (like MO(+1) or MO(-2). Not specifying\n",
      " |          it is the same as specifying +1. You can also use an integer,\n",
      " |          where 0=MO.\n",
      " |  \n",
      " |      leapdays:\n",
      " |          Will add given days to the date found, if year is a leap\n",
      " |          year, and the date found is post 28 of february.\n",
      " |  \n",
      " |      yearday, nlyearday:\n",
      " |          Set the yearday or the non-leap year day (jump leap days).\n",
      " |          These are converted to day/month/leapdays information.\n",
      " |  \n",
      " |  Here is the behavior of operations with relativedelta:\n",
      " |  \n",
      " |  1. Calculate the absolute year, using the 'year' argument, or the\n",
      " |     original datetime year, if the argument is not present.\n",
      " |  \n",
      " |  2. Add the relative 'years' argument to the absolute year.\n",
      " |  \n",
      " |  3. Do steps 1 and 2 for month/months.\n",
      " |  \n",
      " |  4. Calculate the absolute day, using the 'day' argument, or the\n",
      " |     original datetime day, if the argument is not present. Then,\n",
      " |     subtract from the day until it fits in the year and month\n",
      " |     found after their operations.\n",
      " |  \n",
      " |  5. Add the relative 'days' argument to the absolute day. Notice\n",
      " |     that the 'weeks' argument is multiplied by 7 and added to\n",
      " |     'days'.\n",
      " |  \n",
      " |  6. Do steps 1 and 2 for hour/hours, minute/minutes, second/seconds,\n",
      " |     microsecond/microseconds.\n",
      " |  \n",
      " |  7. If the 'weekday' argument is present, calculate the weekday,\n",
      " |     with the given (wday, nth) tuple. wday is the index of the\n",
      " |     weekday (0-6, 0=Mon), and nth is the number of weeks to add\n",
      " |     forward or backward, depending on its signal. Notice that if\n",
      " |     the calculated date is already Monday, for example, using\n",
      " |     (0, 1) or (0, -1) won't change the day.\n",
      " |  \n",
      " |  Methods defined here:\n",
      " |  \n",
      " |  __add__(self, other)\n",
      " |  \n",
      " |  __bool__(self)\n",
      " |  \n",
      " |  __div__(self, other)\n",
      " |  \n",
      " |  __eq__(self, other)\n",
      " |      Return self==value.\n",
      " |  \n",
      " |  __init__(self, dt1=None, dt2=None, years=0, months=0, days=0, leapdays=0, weeks=0, hours=0, minutes=0, seconds=0, microseconds=0, year=None, month=None, day=None, weekday=None, yearday=None, nlyearday=None, hour=None, minute=None, second=None, microsecond=None)\n",
      " |      Initialize self.  See help(type(self)) for accurate signature.\n",
      " |  \n",
      " |  __mul__(self, other)\n",
      " |  \n",
      " |  __ne__(self, other)\n",
      " |      Return self!=value.\n",
      " |  \n",
      " |  __neg__(self)\n",
      " |  \n",
      " |  __nonzero__ = __bool__(self)\n",
      " |  \n",
      " |  __radd__(self, other)\n",
      " |  \n",
      " |  __repr__(self)\n",
      " |      Return repr(self).\n",
      " |  \n",
      " |  __rmul__ = __mul__(self, other)\n",
      " |  \n",
      " |  __rsub__(self, other)\n",
      " |  \n",
      " |  __sub__(self, other)\n",
      " |  \n",
      " |  __truediv__ = __div__(self, other)\n",
      " |  \n",
      " |  normalized(self)\n",
      " |      Return a version of this object represented entirely using integer\n",
      " |      values for the relative attributes.\n",
      " |      \n",
      " |      >>> relativedelta(days=1.5, hours=2).normalized()\n",
      " |      relativedelta(days=1, hours=14)\n",
      " |      \n",
      " |      :return:\n",
      " |          Returns a :class:`dateutil.relativedelta.relativedelta` object.\n",
      " |  \n",
      " |  ----------------------------------------------------------------------\n",
      " |  Data descriptors defined here:\n",
      " |  \n",
      " |  __dict__\n",
      " |      dictionary for instance variables (if defined)\n",
      " |  \n",
      " |  __weakref__\n",
      " |      list of weak references to the object (if defined)\n",
      " |  \n",
      " |  weeks\n",
      " |  \n",
      " |  ----------------------------------------------------------------------\n",
      " |  Data and other attributes defined here:\n",
      " |  \n",
      " |  __hash__ = None\n",
      "\n"
     ]
    }
   ],
   "source": [
    "help(relativedelta)"
   ]
  },
  {
   "cell_type": "code",
   "execution_count": 40,
   "metadata": {},
   "outputs": [
    {
     "data": {
      "text/plain": [
       "Timestamp('2017-10-04 00:00:00')"
      ]
     },
     "execution_count": 40,
     "metadata": {},
     "output_type": "execute_result"
    }
   ],
   "source": [
    "last_one_and_half_year = add_date(date, months=-6,years = -1)\n",
    "last_one_and_half_year"
   ]
  },
  {
   "cell_type": "code",
   "execution_count": 10,
   "metadata": {},
   "outputs": [
    {
     "data": {
      "text/plain": [
       "Timestamp('2018-04-04 00:00:00')"
      ]
     },
     "execution_count": 10,
     "metadata": {},
     "output_type": "execute_result"
    }
   ],
   "source": [
    "last_year = add_date(date, years = -1)\n",
    "last_year"
   ]
  },
  {
   "cell_type": "code",
   "execution_count": 36,
   "metadata": {},
   "outputs": [],
   "source": [
    "ret_one_half=  empyrical.simple_returns(nav[last_one_and_half_year:])"
   ]
  },
  {
   "cell_type": "code",
   "execution_count": 38,
   "metadata": {},
   "outputs": [
    {
     "data": {
      "text/plain": [
       "0.6203208306897341"
      ]
     },
     "execution_count": 38,
     "metadata": {},
     "output_type": "execute_result"
    }
   ],
   "source": [
    "empyrical.annual_return(ret_one_half)"
   ]
  },
  {
   "cell_type": "code",
   "execution_count": 39,
   "metadata": {},
   "outputs": [
    {
     "data": {
      "text/plain": [
       "日期\n",
       "2017-10-09    3.260838\n",
       "2017-10-10    3.256722\n",
       "2017-10-11    3.228496\n",
       "2017-10-12    3.238481\n",
       "2017-10-13    3.239672\n",
       "2017-10-16    3.248003\n",
       "2017-10-17    3.239753\n",
       "2017-10-18    3.264207\n",
       "2017-10-19    3.264653\n",
       "2017-10-20    3.253966\n",
       "2017-10-23    3.276012\n",
       "2017-10-24    3.268340\n",
       "2017-10-25    3.266648\n",
       "2017-10-26    3.276953\n",
       "2017-10-27    3.322857\n",
       "2017-10-30    3.298831\n",
       "2017-10-31    3.317936\n",
       "2017-11-01    3.304374\n",
       "2017-11-02    3.310485\n",
       "2017-11-03    3.306415\n",
       "2017-11-06    3.306415\n",
       "2017-11-07    3.343797\n",
       "2017-11-08    3.339538\n",
       "2017-11-09    3.368863\n",
       "2017-11-10    3.378663\n",
       "2017-11-13    3.389909\n",
       "2017-11-14    3.420886\n",
       "2017-11-15    3.402174\n",
       "2017-11-16    3.439923\n",
       "2017-11-17    3.471221\n",
       "                ...   \n",
       "2019-02-22    5.887465\n",
       "2019-02-25    5.981135\n",
       "2019-02-26    5.972193\n",
       "2019-02-27    5.949842\n",
       "2019-02-28    5.964151\n",
       "2019-03-01    5.919033\n",
       "2019-03-04    5.937737\n",
       "2019-03-05    6.098174\n",
       "2019-03-06    6.190745\n",
       "2019-03-07    6.230118\n",
       "2019-03-08    6.070938\n",
       "2019-03-11    6.163459\n",
       "2019-03-12    6.283524\n",
       "2019-03-13    6.171520\n",
       "2019-03-14    6.101165\n",
       "2019-03-15    6.133867\n",
       "2019-03-18    6.218146\n",
       "2019-03-19    6.193522\n",
       "2019-03-20    6.206993\n",
       "2019-03-21    6.262391\n",
       "2019-03-22    6.306102\n",
       "2019-03-25    6.355826\n",
       "2019-03-26    6.333167\n",
       "2019-03-27    6.359434\n",
       "2019-03-28    6.312819\n",
       "2019-03-29    6.234556\n",
       "2019-04-01    6.546627\n",
       "2019-04-02    6.521079\n",
       "2019-04-03    6.565389\n",
       "2019-04-04    6.547663\n",
       "Name: CTA净值, Length: 365, dtype: float64"
      ]
     },
     "execution_count": 39,
     "metadata": {},
     "output_type": "execute_result"
    }
   ],
   "source": [
    "nav[last_one_and_half_year:]"
   ]
  },
  {
   "cell_type": "code",
   "execution_count": 37,
   "metadata": {},
   "outputs": [
    {
     "data": {
      "text/plain": [
       "日期\n",
       "2017-10-10   -0.001263\n",
       "2017-10-11   -0.008667\n",
       "2017-10-12    0.003093\n",
       "2017-10-13    0.000368\n",
       "2017-10-16    0.002572\n",
       "2017-10-17   -0.002540\n",
       "2017-10-18    0.007548\n",
       "2017-10-19    0.000137\n",
       "2017-10-20   -0.003273\n",
       "2017-10-23    0.006775\n",
       "2017-10-24   -0.002342\n",
       "2017-10-25   -0.000518\n",
       "2017-10-26    0.003155\n",
       "2017-10-27    0.014008\n",
       "2017-10-30   -0.007230\n",
       "2017-10-31    0.005791\n",
       "2017-11-01   -0.004088\n",
       "2017-11-02    0.001849\n",
       "2017-11-03   -0.001229\n",
       "2017-11-06    0.000000\n",
       "2017-11-07    0.011306\n",
       "2017-11-08   -0.001274\n",
       "2017-11-09    0.008781\n",
       "2017-11-10    0.002909\n",
       "2017-11-13    0.003328\n",
       "2017-11-14    0.009138\n",
       "2017-11-15   -0.005470\n",
       "2017-11-16    0.011096\n",
       "2017-11-17    0.009098\n",
       "2017-11-20    0.010137\n",
       "                ...   \n",
       "2019-02-22    0.009173\n",
       "2019-02-25    0.015910\n",
       "2019-02-26   -0.001495\n",
       "2019-02-27   -0.003742\n",
       "2019-02-28    0.002405\n",
       "2019-03-01   -0.007565\n",
       "2019-03-04    0.003160\n",
       "2019-03-05    0.027020\n",
       "2019-03-06    0.015180\n",
       "2019-03-07    0.006360\n",
       "2019-03-08   -0.025550\n",
       "2019-03-11    0.015240\n",
       "2019-03-12    0.019480\n",
       "2019-03-13   -0.017825\n",
       "2019-03-14   -0.011400\n",
       "2019-03-15    0.005360\n",
       "2019-03-18    0.013740\n",
       "2019-03-19   -0.003960\n",
       "2019-03-20    0.002175\n",
       "2019-03-21    0.008925\n",
       "2019-03-22    0.006980\n",
       "2019-03-25    0.007885\n",
       "2019-03-26   -0.003565\n",
       "2019-03-27    0.004147\n",
       "2019-03-28   -0.007330\n",
       "2019-03-29   -0.012397\n",
       "2019-04-01    0.050055\n",
       "2019-04-02   -0.003902\n",
       "2019-04-03    0.006795\n",
       "2019-04-04   -0.002700\n",
       "Name: CTA净值, Length: 364, dtype: float64"
      ]
     },
     "execution_count": 37,
     "metadata": {},
     "output_type": "execute_result"
    }
   ],
   "source": [
    "ret_one_half"
   ]
  },
  {
   "cell_type": "code",
   "execution_count": 29,
   "metadata": {},
   "outputs": [
    {
     "data": {
      "text/plain": [
       "日期\n",
       "2017-10-09    0.012734\n",
       "2017-10-10   -0.001263\n",
       "2017-10-11   -0.008667\n",
       "2017-10-12    0.003093\n",
       "2017-10-13    0.000368\n",
       "2017-10-16    0.002572\n",
       "2017-10-17   -0.002540\n",
       "2017-10-18    0.007548\n",
       "2017-10-19    0.000137\n",
       "2017-10-20   -0.003273\n",
       "2017-10-23    0.006775\n",
       "2017-10-24   -0.002342\n",
       "2017-10-25   -0.000518\n",
       "2017-10-26    0.003155\n",
       "2017-10-27    0.014008\n",
       "2017-10-30   -0.007230\n",
       "2017-10-31    0.005791\n",
       "2017-11-01   -0.004088\n",
       "2017-11-02    0.001849\n",
       "2017-11-03   -0.001229\n",
       "2017-11-06    0.000000\n",
       "2017-11-07    0.011306\n",
       "2017-11-08   -0.001274\n",
       "2017-11-09    0.008781\n",
       "2017-11-10    0.002909\n",
       "2017-11-13    0.003328\n",
       "2017-11-14    0.009138\n",
       "2017-11-15   -0.005470\n",
       "2017-11-16    0.011096\n",
       "2017-11-17    0.009098\n",
       "                ...   \n",
       "2019-02-22    0.009173\n",
       "2019-02-25    0.015910\n",
       "2019-02-26   -0.001495\n",
       "2019-02-27   -0.003742\n",
       "2019-02-28    0.002405\n",
       "2019-03-01   -0.007565\n",
       "2019-03-04    0.003160\n",
       "2019-03-05    0.027020\n",
       "2019-03-06    0.015180\n",
       "2019-03-07    0.006360\n",
       "2019-03-08   -0.025550\n",
       "2019-03-11    0.015240\n",
       "2019-03-12    0.019480\n",
       "2019-03-13   -0.017825\n",
       "2019-03-14   -0.011400\n",
       "2019-03-15    0.005360\n",
       "2019-03-18    0.013740\n",
       "2019-03-19   -0.003960\n",
       "2019-03-20    0.002175\n",
       "2019-03-21    0.008925\n",
       "2019-03-22    0.006980\n",
       "2019-03-25    0.007885\n",
       "2019-03-26   -0.003565\n",
       "2019-03-27    0.004147\n",
       "2019-03-28   -0.007330\n",
       "2019-03-29   -0.012397\n",
       "2019-04-01    0.050055\n",
       "2019-04-02   -0.003902\n",
       "2019-04-03    0.006795\n",
       "2019-04-04   -0.002700\n",
       "Name: CTA净值, Length: 365, dtype: float64"
      ]
     },
     "execution_count": 29,
     "metadata": {},
     "output_type": "execute_result"
    }
   ],
   "source": [
    "ret[last_one_and_half_year:]"
   ]
  },
  {
   "cell_type": "code",
   "execution_count": null,
   "metadata": {},
   "outputs": [],
   "source": []
  }
 ],
 "metadata": {
  "kernelspec": {
   "display_name": "Python 3",
   "language": "python",
   "name": "python3"
  },
  "language_info": {
   "codemirror_mode": {
    "name": "ipython",
    "version": 3
   },
   "file_extension": ".py",
   "mimetype": "text/x-python",
   "name": "python",
   "nbconvert_exporter": "python",
   "pygments_lexer": "ipython3",
   "version": "3.7.2"
  }
 },
 "nbformat": 4,
 "nbformat_minor": 2
}
